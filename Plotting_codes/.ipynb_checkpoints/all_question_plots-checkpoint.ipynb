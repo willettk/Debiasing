{
 "cells": [
  {
   "cell_type": "code",
   "execution_count": 1,
   "metadata": {
    "collapsed": true
   },
   "outputs": [],
   "source": [
    "from astropy.io import fits\n",
    "from astropy.table import Table\n",
    "import matplotlib.pyplot as plt\n",
    "import numpy as np\n",
    "import math\n",
    "import random\n",
    "import pickle\n",
    "import os\n",
    "\n",
    "%matplotlib inline\n",
    "import matplotlib as mpl\n",
    "from matplotlib import pyplot as plt\n",
    "# better-looking plots\n",
    "plt.rcParams['font.family'] = 'serif'\n",
    "plt.rcParams['figure.figsize'] = (10.0, 8)\n",
    "plt.rcParams['font.size'] = 18\n",
    "mpl.ticker.AutoLocator.default_params['nbins'] = 5\n",
    "mpl.ticker.AutoLocator.default_params['prune'] = 'both'"
   ]
  },
  {
   "cell_type": "code",
   "execution_count": 3,
   "metadata": {
    "collapsed": true
   },
   "outputs": [],
   "source": [
    "os.chdir('../')"
   ]
  },
  {
   "cell_type": "code",
   "execution_count": null,
   "metadata": {
    "collapsed": false
   },
   "outputs": [],
   "source": [
    "import make_dictionaries\n",
    "\n",
    "question_dictionary = make_dictionaries.questions\n",
    "debiased_data = Table.read('../fits/full_sample_full_run.fits')\n",
    "print('Loaded galaxy data...')"
   ]
  },
  {
   "cell_type": "code",
   "execution_count": null,
   "metadata": {
    "collapsed": true
   },
   "outputs": [],
   "source": [
    "def reduce_sample(full_data,questions,question,p_cut=0.5,N_cut=5,normalised_values=True,dataset='w13'):\n",
    "    '''For a given question, get thresholded data'''\n",
    "    # Get the reference sample from the previous data:\n",
    "    \n",
    "    previous_q = questions[question]['pre_questions']\n",
    "    previous_a = questions[question]['pre_answers']\n",
    "    '''\n",
    "    if dataset == 'w13':\n",
    "        suffix = '_debiased'\n",
    "    elif dataset == 'raw':\n",
    "        suffix = '_weighted_fraction'\n",
    "    '''\n",
    "    if normalised_values == True:\n",
    "        suffix = '_debiased_rh'#_normalised'\n",
    "    else:\n",
    "        suffix = '_debiased_rh_normalised'\n",
    "    \n",
    "    if previous_q != None:\n",
    "        \n",
    "        p_col = np.ones(len(full_data))\n",
    "        \n",
    "        for m in range(len(previous_q)):\n",
    "            p_col = p_col*(full_data[previous_q[m] + '_' + previous_a[m] + suffix])\n",
    "        N_col = (full_data[previous_q[-1] + '_' + previous_a[-1] + '_count'])\n",
    "        \n",
    "        select = (p_col > p_cut) & (N_col >= N_cut)\n",
    "        data_reduced = full_data[select]\n",
    "        print('{}/{} galaxies with p>{} and N>={}.'.format(len(data_reduced),\n",
    "                                                          len(full_data),p_cut,N_cut))\n",
    "    \n",
    "    else:\n",
    "        data_reduced = full_data.copy()\n",
    "        print('Primary question, so all {} galaxies used.'.format(len(data_reduced)))\n",
    "        \n",
    "        select = np.ones(len(data_reduced)) == 1\n",
    "    \n",
    "    return data_reduced,select"
   ]
  },
  {
   "cell_type": "code",
   "execution_count": null,
   "metadata": {
    "collapsed": false
   },
   "outputs": [],
   "source": [
    "in_volume_limit = debiased_data['in_volume_limit'] == True\n",
    "vl_data = debiased_data[in_volume_limit]"
   ]
  },
  {
   "cell_type": "code",
   "execution_count": null,
   "metadata": {
    "collapsed": true
   },
   "outputs": [],
   "source": [
    "question_order = ['t01_smooth_or_features'\n",
    "                  ,'t02_edgeon'\n",
    "                  ,'t03_bar'\n",
    "                  ,'t04_spiral'\n",
    "                  ,'t05_bulge_prominence'\n",
    "                  ,'t06_odd'\n",
    "                  ,'t07_rounded'\n",
    "                  ,'t08_odd_feature'\n",
    "                  ,'t09_bulge_shape'\n",
    "                  ,'t10_arms_winding'\n",
    "                  ,'t11_arms_number']"
   ]
  },
  {
   "cell_type": "code",
   "execution_count": null,
   "metadata": {
    "collapsed": false
   },
   "outputs": [],
   "source": [
    "def plot_histograms(question_dictionary,data,questions,N_bins=5,logy=True):\n",
    "    \n",
    "    high_z = (data['REDSHIFT_1'] > 0.08) & (data['REDSHIFT_1'] <= 0.085)\n",
    "    low_z = (data['REDSHIFT_1'] > 0.03) & (data['REDSHIFT_1'] <= 0.035)\n",
    "    hist_bins = np.linspace(0,1,N_bins+1)\n",
    "\n",
    "    N_ans = np.zeros(len(questions))\n",
    "    for i,question in enumerate(questions):\n",
    "        N_ans[i] = len(question_dictionary[question]['answers'])\n",
    "    N_x = np.max(N_ans).astype(int)\n",
    "    N_y = len(questions)\n",
    "    fig,axarr = plt.subplots(N_y,N_x,figsize=(20,N_y/N_x*20),sharex=True)\n",
    "    \n",
    "    for y,question in enumerate(questions):\n",
    "        \n",
    "        s_data,select = reduce_sample(data,question_dictionary,question,dataset=None)\n",
    "        \n",
    "        N_qa = N_ans[y].astype(int)\n",
    "        for ax in axarr[y,N_qa:]:\n",
    "            fig.delaxes(ax)\n",
    "            \n",
    "        answers = question_dictionary[question]['answers']\n",
    "        answerlabels = question_dictionary[question]['answerlabels']\n",
    "        axarr[y,0].set_ylabel(question_dictionary[question]['questionlabel'])\n",
    "        \n",
    "        for x,answer in enumerate(answers):\n",
    "            \n",
    "            ref = data[question + '_' + answer + '_weighted_fraction'][(low_z) & (select)]\n",
    "            raw = data[question + '_' + answer + '_weighted_fraction'][(high_z) & (select)]\n",
    "            w13 = data[question + '_' + answer + '_debiased'][(high_z) & (select)]\n",
    "            h16 = data[question + '_' + answer + '_debiased_rh'][(high_z) & (select)]\n",
    "            \n",
    "            _ = axarr[y,x].hist(ref,bins=hist_bins,normed=True,\n",
    "                                histtype='stepfilled',linewidth=0,color='k',alpha=0.3)\n",
    "            _ = axarr[y,x].hist(raw,bins=hist_bins,normed=True,\n",
    "                                histtype='step',linewidth=4,color='k',linestyle='solid')\n",
    "            _ = axarr[y,x].hist(w13,bins=hist_bins,normed=True,\n",
    "                                histtype='step',linewidth=5,color='b',linestyle='dotted')\n",
    "            _ = axarr[y,x].hist(h16,bins=hist_bins,normed=True,\n",
    "                                histtype='step',linewidth=4,color='r',linestyle='dashed')\n",
    "            \n",
    "            axarr[y,x].set_title(answerlabels[x])\n",
    "            \n",
    "            if logy == True:\n",
    "                axarr[y,x].set_yscale('log')\n",
    "        \n",
    "            axarr[y,x].set_yticks([])\n",
    "            \n",
    "    fig.text(0.5, 0.1,'$p$' , ha='center',size=30)\n",
    "    fig.text(0.04, 0.5, '$\\log(f)$', va='center', rotation='vertical',size=30)\n",
    "    \n",
    "    return None"
   ]
  },
  {
   "cell_type": "code",
   "execution_count": null,
   "metadata": {
    "collapsed": false
   },
   "outputs": [],
   "source": [
    "plot_histograms(question_dictionary,vl_data,question_order)\n",
    "#plt.savefig('figures/all_histograms.pdf')\n"
   ]
  },
  {
   "cell_type": "code",
   "execution_count": null,
   "metadata": {
    "collapsed": true
   },
   "outputs": [],
   "source": []
  }
 ],
 "metadata": {
  "kernelspec": {
   "display_name": "Python 3",
   "language": "python",
   "name": "python3"
  },
  "language_info": {
   "codemirror_mode": {
    "name": "ipython",
    "version": 3
   },
   "file_extension": ".py",
   "mimetype": "text/x-python",
   "name": "python",
   "nbconvert_exporter": "python",
   "pygments_lexer": "ipython3",
   "version": "3.4.1"
  }
 },
 "nbformat": 4,
 "nbformat_minor": 0
}
