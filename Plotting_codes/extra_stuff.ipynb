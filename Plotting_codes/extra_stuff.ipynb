{
 "cells": [
  {
   "cell_type": "code",
   "execution_count": null,
   "metadata": {
    "collapsed": true
   },
   "outputs": [],
   "source": [
    "def double_gaussian(x,a1,b1,c1,a2,b2,c2):\n",
    "    \n",
    "    y = (a1*np.exp((-(x-b1)**2)/(2*c1**2)) \n",
    "         + a2*np.exp((-(x-b2)**2)/(2*c2**2)))\n",
    "    \n",
    "    return y\n",
    "\n",
    "def single_gaussian(x,a1,b1,c1):\n",
    "    \n",
    "    y = a1*np.exp((-(x-b1)**2)/(2*c1**2))\n",
    "         \n",
    "    return y"
   ]
  },
  {
   "cell_type": "code",
   "execution_count": null,
   "metadata": {
    "collapsed": true
   },
   "outputs": [],
   "source": []
  },
  {
   "cell_type": "code",
   "execution_count": null,
   "metadata": {
    "collapsed": true
   },
   "outputs": [],
   "source": [
    "from scipy.optimize import curve_fit\n",
    "\n",
    "#ml2 = ml_spirals[ml_assignments == m]\n",
    "ml2 = ml_spirals\n",
    "\n",
    "_ = plt.hist(ml2['ssfr_total_avg'],bins=np.linspace(-12.5,-9.5,31),normed=True,histtype='stepfilled',alpha=0.5\n",
    "            ,color='k')\n",
    "\n",
    "bin_centres = [_[1][n] + (_[1][n+1] - _[1][n])/2 for n in range(len(_[1])-1)]\n",
    "bin_h = _[0]\n",
    "\n",
    "popt,pcov = curve_fit(double_gaussian,bin_centres,bin_h,p0=[0.5,-12,1,0.5,-10,1])\n",
    "\n",
    "x = np.linspace(-12.5,-9.5,1000)\n",
    "\n",
    "plt.plot(x,single_gaussian(x,*popt[:3]),'r-',linewidth=3)\n",
    "plt.plot(x,single_gaussian(x,*popt[3:]),'b-',linewidth=3)\n",
    "\n",
    "print('{}:'.format(m),popt[1],popt[4])"
   ]
  }
 ],
 "metadata": {
  "kernelspec": {
   "display_name": "Python 3",
   "language": "python",
   "name": "python3"
  },
  "language_info": {
   "codemirror_mode": {
    "name": "ipython",
    "version": 3
   },
   "file_extension": ".py",
   "mimetype": "text/x-python",
   "name": "python",
   "nbconvert_exporter": "python",
   "pygments_lexer": "ipython3",
   "version": "3.4.1"
  }
 },
 "nbformat": 4,
 "nbformat_minor": 0
}
