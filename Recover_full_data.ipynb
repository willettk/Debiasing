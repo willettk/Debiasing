{
 "cells": [
  {
   "cell_type": "code",
   "execution_count": 2,
   "metadata": {
    "collapsed": false
   },
   "outputs": [],
   "source": [
    "import numpy as np\n",
    "from astropy.table import Table"
   ]
  },
  {
   "cell_type": "code",
   "execution_count": 3,
   "metadata": {
    "collapsed": false
   },
   "outputs": [
    {
     "name": "stdout",
     "output_type": "stream",
     "text": [
      "Loaded galaxy data...\n"
     ]
    }
   ],
   "source": [
    "full_sample = Table.read('../fits/full_sample.fits')\n",
    "print('Loaded galaxy data...')"
   ]
  },
  {
   "cell_type": "code",
   "execution_count": 4,
   "metadata": {
    "collapsed": false
   },
   "outputs": [],
   "source": [
    "debiased_values = Table.read('../fits/debiased_values.fits')"
   ]
  },
  {
   "cell_type": "code",
   "execution_count": 5,
   "metadata": {
    "collapsed": false
   },
   "outputs": [
    {
     "name": "stdout",
     "output_type": "stream",
     "text": [
      "Saved \"t01_smooth_or_features_a01_smooth_debiased_rh\" column\n",
      "Saved \"t01_smooth_or_features_a02_features_or_disk_debiased_rh\" column\n",
      "Saved \"t01_smooth_or_features_a03_star_or_artifact_debiased_rh\" column\n",
      "Saved \"t01_smooth_or_features_a01_smooth_debiased_rh_normalised\" column\n",
      "Saved \"t01_smooth_or_features_a02_features_or_disk_debiased_rh_normalised\" column\n",
      "Saved \"t01_smooth_or_features_a03_star_or_artifact_debiased_rh_normalised\" column\n",
      "Saved \"t02_edgeon_a04_yes_debiased_rh\" column\n",
      "Saved \"t02_edgeon_a05_no_debiased_rh\" column\n",
      "Saved \"t02_edgeon_a04_yes_debiased_rh_normalised\" column\n",
      "Saved \"t02_edgeon_a05_no_debiased_rh_normalised\" column\n",
      "Saved \"t07_rounded_a16_completely_round_debiased_rh\" column\n",
      "Saved \"t07_rounded_a17_in_between_debiased_rh\" column\n",
      "Saved \"t07_rounded_a18_cigar_shaped_debiased_rh\" column\n",
      "Saved \"t07_rounded_a16_completely_round_debiased_rh_normalised\" column\n",
      "Saved \"t07_rounded_a17_in_between_debiased_rh_normalised\" column\n",
      "Saved \"t07_rounded_a18_cigar_shaped_debiased_rh_normalised\" column\n",
      "Saved \"t03_bar_a06_bar_debiased_rh\" column\n",
      "Saved \"t03_bar_a07_no_bar_debiased_rh\" column\n",
      "Saved \"t03_bar_a06_bar_debiased_rh_normalised\" column\n",
      "Saved \"t03_bar_a07_no_bar_debiased_rh_normalised\" column\n",
      "Saved \"t04_spiral_a08_spiral_debiased_rh\" column\n",
      "Saved \"t04_spiral_a09_no_spiral_debiased_rh\" column\n",
      "Saved \"t04_spiral_a08_spiral_debiased_rh_normalised\" column\n",
      "Saved \"t04_spiral_a09_no_spiral_debiased_rh_normalised\" column\n",
      "Saved \"t09_bulge_shape_a25_rounded_debiased_rh\" column\n",
      "Saved \"t09_bulge_shape_a26_boxy_debiased_rh\" column\n",
      "Saved \"t09_bulge_shape_a27_no_bulge_debiased_rh\" column\n",
      "Saved \"t09_bulge_shape_a25_rounded_debiased_rh_normalised\" column\n",
      "Saved \"t09_bulge_shape_a26_boxy_debiased_rh_normalised\" column\n",
      "Saved \"t09_bulge_shape_a27_no_bulge_debiased_rh_normalised\" column\n",
      "Saved \"t05_bulge_prominence_a10_no_bulge_debiased_rh\" column\n",
      "Saved \"t05_bulge_prominence_a11_just_noticeable_debiased_rh\" column\n",
      "Saved \"t05_bulge_prominence_a12_obvious_debiased_rh\" column\n",
      "Saved \"t05_bulge_prominence_a13_dominant_debiased_rh\" column\n",
      "Saved \"t05_bulge_prominence_a10_no_bulge_debiased_rh_normalised\" column\n",
      "Saved \"t05_bulge_prominence_a11_just_noticeable_debiased_rh_normalised\" column\n",
      "Saved \"t05_bulge_prominence_a12_obvious_debiased_rh_normalised\" column\n",
      "Saved \"t05_bulge_prominence_a13_dominant_debiased_rh_normalised\" column\n",
      "Saved \"t10_arms_winding_a28_tight_debiased_rh\" column\n",
      "Saved \"t10_arms_winding_a29_medium_debiased_rh\" column\n",
      "Saved \"t10_arms_winding_a30_loose_debiased_rh\" column\n",
      "Saved \"t10_arms_winding_a28_tight_debiased_rh_normalised\" column\n",
      "Saved \"t10_arms_winding_a29_medium_debiased_rh_normalised\" column\n",
      "Saved \"t10_arms_winding_a30_loose_debiased_rh_normalised\" column\n",
      "Saved \"t11_arms_number_a31_1_debiased_rh\" column\n",
      "Saved \"t11_arms_number_a32_2_debiased_rh\" column\n",
      "Saved \"t11_arms_number_a33_3_debiased_rh\" column\n",
      "Saved \"t11_arms_number_a34_4_debiased_rh\" column\n",
      "Saved \"t11_arms_number_a36_more_than_4_debiased_rh\" column\n",
      "Saved \"t11_arms_number_a37_cant_tell_debiased_rh\" column\n",
      "Saved \"t11_arms_number_a31_1_debiased_rh_normalised\" column\n",
      "Saved \"t11_arms_number_a32_2_debiased_rh_normalised\" column\n",
      "Saved \"t11_arms_number_a33_3_debiased_rh_normalised\" column\n",
      "Saved \"t11_arms_number_a34_4_debiased_rh_normalised\" column\n",
      "Saved \"t11_arms_number_a36_more_than_4_debiased_rh_normalised\" column\n",
      "Saved \"t11_arms_number_a37_cant_tell_debiased_rh_normalised\" column\n",
      "Saved \"t06_odd_a14_yes_debiased_rh\" column\n",
      "Saved \"t06_odd_a15_no_debiased_rh\" column\n",
      "Saved \"t06_odd_a14_yes_debiased_rh_normalised\" column\n",
      "Saved \"t06_odd_a15_no_debiased_rh_normalised\" column\n",
      "Saved \"t08_odd_feature_a19_ring_debiased_rh\" column\n",
      "Saved \"t08_odd_feature_a20_lens_or_arc_debiased_rh\" column\n",
      "Saved \"t08_odd_feature_a21_disturbed_debiased_rh\" column\n",
      "Saved \"t08_odd_feature_a22_irregular_debiased_rh\" column\n",
      "Saved \"t08_odd_feature_a23_other_debiased_rh\" column\n",
      "Saved \"t08_odd_feature_a24_merger_debiased_rh\" column\n",
      "Saved \"t08_odd_feature_a38_dust_lane_debiased_rh\" column\n",
      "Saved \"t08_odd_feature_a38_dust_lane_debiased_rh_normalised\" column\n",
      "Saved \"t08_odd_feature_a19_ring_debiased_rh_normalised\" column\n",
      "Saved \"t08_odd_feature_a20_lens_or_arc_debiased_rh_normalised\" column\n",
      "Saved \"t08_odd_feature_a21_disturbed_debiased_rh_normalised\" column\n",
      "Saved \"t08_odd_feature_a22_irregular_debiased_rh_normalised\" column\n",
      "Saved \"t08_odd_feature_a23_other_debiased_rh_normalised\" column\n",
      "Saved \"t08_odd_feature_a24_merger_debiased_rh_normalised\" column\n"
     ]
    }
   ],
   "source": [
    "for c in debiased_values.colnames:\n",
    "    print('Saved \"{}\" column'.format(c))\n",
    "    full_sample[c] = debiased_values[c]"
   ]
  },
  {
   "cell_type": "markdown",
   "metadata": {},
   "source": [
    "Write the data in to a single FITS file for plotting etc."
   ]
  },
  {
   "cell_type": "code",
   "execution_count": 6,
   "metadata": {
    "collapsed": false
   },
   "outputs": [],
   "source": [
    "full_sample.write('../fits/full_sample_debiased.fits',overwrite=True)"
   ]
  }
 ],
 "metadata": {
  "kernelspec": {
   "display_name": "Python 3",
   "language": "python",
   "name": "python3"
  },
  "language_info": {
   "codemirror_mode": {
    "name": "ipython",
    "version": 3
   },
   "file_extension": ".py",
   "mimetype": "text/x-python",
   "name": "python",
   "nbconvert_exporter": "python",
   "pygments_lexer": "ipython3",
   "version": "3.4.1"
  }
 },
 "nbformat": 4,
 "nbformat_minor": 0
}
